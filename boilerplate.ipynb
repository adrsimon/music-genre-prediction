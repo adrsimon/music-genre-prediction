{
 "cells": [
  {
   "cell_type": "code",
   "execution_count": 48,
   "id": "initial_id",
   "metadata": {
    "collapsed": true,
    "ExecuteTime": {
     "end_time": "2024-06-04T16:04:44.883883Z",
     "start_time": "2024-06-04T16:04:44.876284Z"
    }
   },
   "outputs": [],
   "source": [
    "import pandas as pd\n",
    "import matplotlib.pyplot as plt\n",
    "import seaborn as sns\n",
    "import numpy as np"
   ]
  },
  {
   "cell_type": "code",
   "outputs": [],
   "source": [
    "df = pd.read_csv(\"data/musicgenre.csv\")\n",
    "df = df.dropna(subset=['music_genre'])"
   ],
   "metadata": {
    "collapsed": false,
    "ExecuteTime": {
     "end_time": "2024-06-04T16:04:45.129210Z",
     "start_time": "2024-06-04T16:04:45.019299Z"
    }
   },
   "id": "aa0515290a37b900",
   "execution_count": 49
  },
  {
   "cell_type": "code",
   "outputs": [
    {
     "data": {
      "text/plain": "       instance_id           artist_name                track_name  \\\n0          32894.0              Röyksopp      Röyksopp's Night Out   \n1          46652.0  Thievery Corporation          The Shining Path   \n2          30097.0        Dillon Francis                 Hurricane   \n3          62177.0              Dubloadz                     Nitro   \n4          24907.0           What So Not          Divide & Conquer   \n...            ...                   ...                       ...   \n50000      58878.0                 BEXEY                  GO GETTA   \n50001      43557.0             Roy Woods       Drama (feat. Drake)   \n50002      39767.0                Berner  Lovin' Me (feat. Smiggz)   \n50003      57944.0             The-Dream         Shawty Is Da Shit   \n50004      63470.0     Naughty By Nature            Hip Hop Hooray   \n\n       popularity  acousticness  danceability  duration_ms  energy  \\\n0            27.0       0.00468         0.652         -1.0   0.941   \n1            31.0       0.01270         0.622     218293.0   0.890   \n2            28.0       0.00306         0.620     215613.0   0.755   \n3            34.0       0.02540         0.774     166875.0   0.700   \n4            32.0       0.00465         0.638     222369.0   0.587   \n...           ...           ...           ...          ...     ...   \n50000        59.0       0.03340         0.913         -1.0   0.574   \n50001        72.0       0.15700         0.709     251860.0   0.362   \n50002        51.0       0.00597         0.693     189483.0   0.763   \n50003        65.0       0.08310         0.782     262773.0   0.472   \n50004        67.0       0.10200         0.862     267267.0   0.642   \n\n       instrumentalness key  liveness  loudness   mode  speechiness  \\\n0               0.79200  A#     0.115    -5.201  Minor       0.0748   \n1               0.95000   D     0.124    -7.043  Minor       0.0300   \n2               0.01180  G#     0.534    -4.617  Major       0.0345   \n3               0.00253  C#     0.157    -4.498  Major       0.2390   \n4               0.90900  F#     0.157    -6.266  Major       0.0413   \n...                 ...  ..       ...       ...    ...          ...   \n50000           0.00000  C#     0.119    -7.022  Major       0.2980   \n50001           0.00000   B     0.109    -9.814  Major       0.0550   \n50002           0.00000   D     0.143    -5.443  Major       0.1460   \n50003           0.00000   G     0.106    -5.016  Minor       0.0441   \n50004           0.00000  F#     0.272   -13.652  Minor       0.1010   \n\n                    tempo obtained_date  valence music_genre  \n0                 100.889         4-Apr    0.759  Electronic  \n1      115.00200000000001         4-Apr    0.531  Electronic  \n2                 127.994         4-Apr    0.333  Electronic  \n3                 128.014         4-Apr    0.270  Electronic  \n4                 145.036         4-Apr    0.323  Electronic  \n...                   ...           ...      ...         ...  \n50000   98.02799999999999         4-Apr    0.330     Hip-Hop  \n50001  122.04299999999999         4-Apr    0.113     Hip-Hop  \n50002             131.079         4-Apr    0.395     Hip-Hop  \n50003   75.88600000000001         4-Apr    0.354     Hip-Hop  \n50004   99.20100000000001         4-Apr    0.765     Hip-Hop  \n\n[50000 rows x 18 columns]",
      "text/html": "<div>\n<style scoped>\n    .dataframe tbody tr th:only-of-type {\n        vertical-align: middle;\n    }\n\n    .dataframe tbody tr th {\n        vertical-align: top;\n    }\n\n    .dataframe thead th {\n        text-align: right;\n    }\n</style>\n<table border=\"1\" class=\"dataframe\">\n  <thead>\n    <tr style=\"text-align: right;\">\n      <th></th>\n      <th>instance_id</th>\n      <th>artist_name</th>\n      <th>track_name</th>\n      <th>popularity</th>\n      <th>acousticness</th>\n      <th>danceability</th>\n      <th>duration_ms</th>\n      <th>energy</th>\n      <th>instrumentalness</th>\n      <th>key</th>\n      <th>liveness</th>\n      <th>loudness</th>\n      <th>mode</th>\n      <th>speechiness</th>\n      <th>tempo</th>\n      <th>obtained_date</th>\n      <th>valence</th>\n      <th>music_genre</th>\n    </tr>\n  </thead>\n  <tbody>\n    <tr>\n      <th>0</th>\n      <td>32894.0</td>\n      <td>Röyksopp</td>\n      <td>Röyksopp's Night Out</td>\n      <td>27.0</td>\n      <td>0.00468</td>\n      <td>0.652</td>\n      <td>-1.0</td>\n      <td>0.941</td>\n      <td>0.79200</td>\n      <td>A#</td>\n      <td>0.115</td>\n      <td>-5.201</td>\n      <td>Minor</td>\n      <td>0.0748</td>\n      <td>100.889</td>\n      <td>4-Apr</td>\n      <td>0.759</td>\n      <td>Electronic</td>\n    </tr>\n    <tr>\n      <th>1</th>\n      <td>46652.0</td>\n      <td>Thievery Corporation</td>\n      <td>The Shining Path</td>\n      <td>31.0</td>\n      <td>0.01270</td>\n      <td>0.622</td>\n      <td>218293.0</td>\n      <td>0.890</td>\n      <td>0.95000</td>\n      <td>D</td>\n      <td>0.124</td>\n      <td>-7.043</td>\n      <td>Minor</td>\n      <td>0.0300</td>\n      <td>115.00200000000001</td>\n      <td>4-Apr</td>\n      <td>0.531</td>\n      <td>Electronic</td>\n    </tr>\n    <tr>\n      <th>2</th>\n      <td>30097.0</td>\n      <td>Dillon Francis</td>\n      <td>Hurricane</td>\n      <td>28.0</td>\n      <td>0.00306</td>\n      <td>0.620</td>\n      <td>215613.0</td>\n      <td>0.755</td>\n      <td>0.01180</td>\n      <td>G#</td>\n      <td>0.534</td>\n      <td>-4.617</td>\n      <td>Major</td>\n      <td>0.0345</td>\n      <td>127.994</td>\n      <td>4-Apr</td>\n      <td>0.333</td>\n      <td>Electronic</td>\n    </tr>\n    <tr>\n      <th>3</th>\n      <td>62177.0</td>\n      <td>Dubloadz</td>\n      <td>Nitro</td>\n      <td>34.0</td>\n      <td>0.02540</td>\n      <td>0.774</td>\n      <td>166875.0</td>\n      <td>0.700</td>\n      <td>0.00253</td>\n      <td>C#</td>\n      <td>0.157</td>\n      <td>-4.498</td>\n      <td>Major</td>\n      <td>0.2390</td>\n      <td>128.014</td>\n      <td>4-Apr</td>\n      <td>0.270</td>\n      <td>Electronic</td>\n    </tr>\n    <tr>\n      <th>4</th>\n      <td>24907.0</td>\n      <td>What So Not</td>\n      <td>Divide &amp; Conquer</td>\n      <td>32.0</td>\n      <td>0.00465</td>\n      <td>0.638</td>\n      <td>222369.0</td>\n      <td>0.587</td>\n      <td>0.90900</td>\n      <td>F#</td>\n      <td>0.157</td>\n      <td>-6.266</td>\n      <td>Major</td>\n      <td>0.0413</td>\n      <td>145.036</td>\n      <td>4-Apr</td>\n      <td>0.323</td>\n      <td>Electronic</td>\n    </tr>\n    <tr>\n      <th>...</th>\n      <td>...</td>\n      <td>...</td>\n      <td>...</td>\n      <td>...</td>\n      <td>...</td>\n      <td>...</td>\n      <td>...</td>\n      <td>...</td>\n      <td>...</td>\n      <td>...</td>\n      <td>...</td>\n      <td>...</td>\n      <td>...</td>\n      <td>...</td>\n      <td>...</td>\n      <td>...</td>\n      <td>...</td>\n      <td>...</td>\n    </tr>\n    <tr>\n      <th>50000</th>\n      <td>58878.0</td>\n      <td>BEXEY</td>\n      <td>GO GETTA</td>\n      <td>59.0</td>\n      <td>0.03340</td>\n      <td>0.913</td>\n      <td>-1.0</td>\n      <td>0.574</td>\n      <td>0.00000</td>\n      <td>C#</td>\n      <td>0.119</td>\n      <td>-7.022</td>\n      <td>Major</td>\n      <td>0.2980</td>\n      <td>98.02799999999999</td>\n      <td>4-Apr</td>\n      <td>0.330</td>\n      <td>Hip-Hop</td>\n    </tr>\n    <tr>\n      <th>50001</th>\n      <td>43557.0</td>\n      <td>Roy Woods</td>\n      <td>Drama (feat. Drake)</td>\n      <td>72.0</td>\n      <td>0.15700</td>\n      <td>0.709</td>\n      <td>251860.0</td>\n      <td>0.362</td>\n      <td>0.00000</td>\n      <td>B</td>\n      <td>0.109</td>\n      <td>-9.814</td>\n      <td>Major</td>\n      <td>0.0550</td>\n      <td>122.04299999999999</td>\n      <td>4-Apr</td>\n      <td>0.113</td>\n      <td>Hip-Hop</td>\n    </tr>\n    <tr>\n      <th>50002</th>\n      <td>39767.0</td>\n      <td>Berner</td>\n      <td>Lovin' Me (feat. Smiggz)</td>\n      <td>51.0</td>\n      <td>0.00597</td>\n      <td>0.693</td>\n      <td>189483.0</td>\n      <td>0.763</td>\n      <td>0.00000</td>\n      <td>D</td>\n      <td>0.143</td>\n      <td>-5.443</td>\n      <td>Major</td>\n      <td>0.1460</td>\n      <td>131.079</td>\n      <td>4-Apr</td>\n      <td>0.395</td>\n      <td>Hip-Hop</td>\n    </tr>\n    <tr>\n      <th>50003</th>\n      <td>57944.0</td>\n      <td>The-Dream</td>\n      <td>Shawty Is Da Shit</td>\n      <td>65.0</td>\n      <td>0.08310</td>\n      <td>0.782</td>\n      <td>262773.0</td>\n      <td>0.472</td>\n      <td>0.00000</td>\n      <td>G</td>\n      <td>0.106</td>\n      <td>-5.016</td>\n      <td>Minor</td>\n      <td>0.0441</td>\n      <td>75.88600000000001</td>\n      <td>4-Apr</td>\n      <td>0.354</td>\n      <td>Hip-Hop</td>\n    </tr>\n    <tr>\n      <th>50004</th>\n      <td>63470.0</td>\n      <td>Naughty By Nature</td>\n      <td>Hip Hop Hooray</td>\n      <td>67.0</td>\n      <td>0.10200</td>\n      <td>0.862</td>\n      <td>267267.0</td>\n      <td>0.642</td>\n      <td>0.00000</td>\n      <td>F#</td>\n      <td>0.272</td>\n      <td>-13.652</td>\n      <td>Minor</td>\n      <td>0.1010</td>\n      <td>99.20100000000001</td>\n      <td>4-Apr</td>\n      <td>0.765</td>\n      <td>Hip-Hop</td>\n    </tr>\n  </tbody>\n</table>\n<p>50000 rows × 18 columns</p>\n</div>"
     },
     "execution_count": 50,
     "metadata": {},
     "output_type": "execute_result"
    }
   ],
   "source": [
    "df"
   ],
   "metadata": {
    "collapsed": false,
    "ExecuteTime": {
     "end_time": "2024-06-04T16:04:45.195471Z",
     "start_time": "2024-06-04T16:04:45.188811Z"
    }
   },
   "id": "c1dc153cb5a3dec3",
   "execution_count": 50
  },
  {
   "cell_type": "markdown",
   "source": [
    "# Augmentation du dataframe"
   ],
   "metadata": {
    "collapsed": false
   },
   "id": "b5795c5646ca84d3"
  },
  {
   "cell_type": "markdown",
   "source": [
    "### Valeurs manquantes\n",
    "\n",
    "`df_droppped` : toutes les lignes contenant une valeur `None` sont drop\n",
    "`df_mean` : toutes les valeurs `None` sont remplacées par la valeur moyenne de la colonne\n",
    "`df_median` : toutes les valeurs `None` sont remplacées par la valeur médiane de la colonne"
   ],
   "metadata": {
    "collapsed": false
   },
   "id": "3fa3bf708bed04ad"
  },
  {
   "cell_type": "code",
   "outputs": [],
   "source": [
    "df_dropped = df.replace(\"?\", None).dropna()\n",
    "tempo = [float(i) for i in df.tempo if i != \"?\"]\n",
    "df_mean = df.replace(\"?\", np.mean(tempo))\n",
    "df_median = df.replace(\"?\", np.median(tempo))"
   ],
   "metadata": {
    "collapsed": false,
    "ExecuteTime": {
     "end_time": "2024-06-04T16:04:45.747502Z",
     "start_time": "2024-06-04T16:04:45.635671Z"
    }
   },
   "id": "f3ac54ebee5ebdb8",
   "execution_count": 51
  },
  {
   "cell_type": "code",
   "outputs": [
    {
     "name": "stdout",
     "output_type": "stream",
     "text": [
      "119.95296059529099\n",
      "119.95296059529097\n",
      "119.94559411999998\n"
     ]
    }
   ],
   "source": [
    "print(np.mean([float(i) for i in df_dropped.tempo if i != \"?\"]))\n",
    "print(np.mean([float(i) for i in df_mean.tempo if i != \"?\"]))\n",
    "print(np.mean([float(i) for i in df_median.tempo if i != \"?\"]))"
   ],
   "metadata": {
    "collapsed": false,
    "ExecuteTime": {
     "end_time": "2024-06-04T16:04:45.843833Z",
     "start_time": "2024-06-04T16:04:45.830510Z"
    }
   },
   "id": "5c7dee157529abaa",
   "execution_count": 52
  },
  {
   "cell_type": "markdown",
   "source": [
    "Pas beaucoup de différence entre les 3 méthodes. On va donc garder `df_dropped` dans un premier temps."
   ],
   "metadata": {
    "collapsed": false
   },
   "id": "495210c89daec777"
  },
  {
   "cell_type": "code",
   "outputs": [],
   "source": [
    "df_dropped[\"tempo\"] = df_dropped[\"tempo\"].astype(float)"
   ],
   "metadata": {
    "collapsed": false,
    "ExecuteTime": {
     "end_time": "2024-06-04T16:04:46.135152Z",
     "start_time": "2024-06-04T16:04:46.131366Z"
    }
   },
   "id": "caebf036501b259d",
   "execution_count": 53
  },
  {
   "cell_type": "code",
   "outputs": [
    {
     "name": "stdout",
     "output_type": "stream",
     "text": [
      "Categorical Features: 6\n",
      "Numerical Features: 12\n"
     ]
    }
   ],
   "source": [
    "print(f'Categorical Features: {len([x for x in df_dropped.columns if df_dropped[x].dtype == object])}')\n",
    "print(f'Numerical Features: {len([x for x in df_dropped.columns if df_dropped[x].dtype == float])}')"
   ],
   "metadata": {
    "collapsed": false,
    "ExecuteTime": {
     "end_time": "2024-06-04T16:04:46.303170Z",
     "start_time": "2024-06-04T16:04:46.297973Z"
    }
   },
   "id": "6fdb1bb42d6cabce",
   "execution_count": 54
  },
  {
   "cell_type": "markdown",
   "source": [
    "### Durée"
   ],
   "metadata": {
    "collapsed": false
   },
   "id": "6fb93380c3c3f9df"
  },
  {
   "cell_type": "code",
   "outputs": [
    {
     "data": {
      "text/plain": "<Figure size 1000x300 with 1 Axes>",
      "image/png": "[encoded data removed]"
     },
     "metadata": {},
     "output_type": "display_data"
    }
   ],
   "source": [
    "plt.figure(figsize=(10, 3))\n",
    "df_dropped.select_dtypes(include=np.number).boxplot()\n",
    "plt.show()"
   ],
   "metadata": {
    "collapsed": false,
    "ExecuteTime": {
     "end_time": "2024-06-04T16:04:46.902495Z",
     "start_time": "2024-06-04T16:04:46.610255Z"
    }
   },
   "id": "dd2f1a5d56e6a3a3",
   "execution_count": 55
  },
  {
   "cell_type": "markdown",
   "source": [
    "On observe des valeurs extrêmes pour la colonne `duration_ms`. On va donc la normaliser en la passant en secondes."
   ],
   "metadata": {
    "collapsed": false
   },
   "id": "5cc31abbd612ca2b"
  },
  {
   "cell_type": "code",
   "outputs": [],
   "source": [
    "df_dropped[\"duration_ms\"] = df_dropped[\"duration_ms\"] / 1000"
   ],
   "metadata": {
    "collapsed": false,
    "ExecuteTime": {
     "end_time": "2024-06-04T16:04:46.968800Z",
     "start_time": "2024-06-04T16:04:46.962943Z"
    }
   },
   "id": "c2fc513ff060a024",
   "execution_count": 56
  },
  {
   "cell_type": "code",
   "outputs": [
    {
     "data": {
      "text/plain": "<Figure size 1000x300 with 1 Axes>",
      "image/png": "[encoded data removed]"
     },
     "metadata": {},
     "output_type": "display_data"
    }
   ],
   "source": [
    "plt.figure(figsize=(10, 3))\n",
    "df_dropped.select_dtypes(include=np.number).boxplot()\n",
    "plt.show()"
   ],
   "metadata": {
    "collapsed": false,
    "ExecuteTime": {
     "end_time": "2024-06-04T16:04:47.395966Z",
     "start_time": "2024-06-04T16:04:47.110679Z"
    }
   },
   "id": "18fc1b17adc59058",
   "execution_count": 57
  },
  {
   "cell_type": "markdown",
   "source": [
    "### Transformations des variables catégorielles en variables numériques\n",
    "\n",
    "Afin de pouvoir utiliser les variables catégorielles dans notre modèle, on va les transformer en variables numériques."
   ],
   "metadata": {
    "collapsed": false
   },
   "id": "c15aca661eb6ddfa"
  },
  {
   "cell_type": "code",
   "outputs": [],
   "source": [
    "from sklearn.preprocessing import LabelEncoder"
   ],
   "metadata": {
    "collapsed": false,
    "ExecuteTime": {
     "end_time": "2024-06-04T16:04:47.406281Z",
     "start_time": "2024-06-04T16:04:47.400605Z"
    }
   },
   "id": "1d2debb4865873eb",
   "execution_count": 58
  },
  {
   "cell_type": "code",
   "outputs": [],
   "source": [
    "encoder = LabelEncoder()\n",
    "df_dropped['music_genre'] = encoder.fit_transform(df_dropped['music_genre'])"
   ],
   "metadata": {
    "collapsed": false,
    "ExecuteTime": {
     "end_time": "2024-06-04T16:04:47.578204Z",
     "start_time": "2024-06-04T16:04:47.571615Z"
    }
   },
   "id": "85cde292a6c4b9a2",
   "execution_count": 59
  },
  {
   "cell_type": "code",
   "outputs": [],
   "source": [
    "df_dropped['key'] = encoder.fit_transform(df_dropped['key'])\n",
    "df_dropped['mode'] = encoder.fit_transform(df_dropped['mode'])\n",
    "df_dropped['artist'] = encoder.fit_transform(df_dropped['artist_name'])"
   ],
   "metadata": {
    "collapsed": false,
    "ExecuteTime": {
     "end_time": "2024-06-04T16:04:47.820444Z",
     "start_time": "2024-06-04T16:04:47.798897Z"
    }
   },
   "id": "17383fd55b57381d",
   "execution_count": 60
  },
  {
   "cell_type": "code",
   "outputs": [
    {
     "name": "stdout",
     "output_type": "stream",
     "text": [
      "music_genre\n",
      "0    4495\n",
      "1    4497\n",
      "2    4470\n",
      "3    4500\n",
      "4    4486\n",
      "5    4466\n",
      "6    4520\n",
      "7    4521\n",
      "8    4504\n",
      "9    4561\n",
      "Name: count, dtype: int64\n"
     ]
    }
   ],
   "source": [
    "print(df_dropped['music_genre'].value_counts().sort_index())"
   ],
   "metadata": {
    "collapsed": false,
    "ExecuteTime": {
     "end_time": "2024-06-04T16:04:47.952469Z",
     "start_time": "2024-06-04T16:04:47.945859Z"
    }
   },
   "id": "81153be4a1e6d41a",
   "execution_count": 61
  },
  {
   "cell_type": "markdown",
   "source": [
    "### Délétion des colonnes inutiles"
   ],
   "metadata": {
    "collapsed": false
   },
   "id": "9c0e97b0e09d4061"
  },
  {
   "cell_type": "code",
   "outputs": [],
   "source": [
    "df_dropped.drop(['track_name'],axis=1,inplace=True)"
   ],
   "metadata": {
    "collapsed": false,
    "ExecuteTime": {
     "end_time": "2024-06-04T16:04:50.027462Z",
     "start_time": "2024-06-04T16:04:50.013018Z"
    }
   },
   "id": "e3261ba465c9b026",
   "execution_count": 63
  },
  {
   "cell_type": "markdown",
   "source": [
    "On suppose que le nom de la musique n'a pas d'impact sur le genre de musique."
   ],
   "metadata": {
    "collapsed": false
   },
   "id": "37c6c86416909a9d"
  },
  {
   "cell_type": "code",
   "outputs": [],
   "source": [
    "df_dropped.drop(['instance_id'],axis=1,inplace=True)\n",
    "df_dropped.drop(['obtained_date'],axis=1,inplace=True)"
   ],
   "metadata": {
    "collapsed": false,
    "ExecuteTime": {
     "end_time": "2024-06-04T16:05:03.388733Z",
     "start_time": "2024-06-04T16:05:03.373657Z"
    }
   },
   "id": "9d984c2af615d254",
   "execution_count": 64
  },
  {
   "cell_type": "markdown",
   "source": [
    "De la même manière, l'identifiant de la musique ainsi que la date d'obtention n'ont pas d'impact sur le genre de musique."
   ],
   "metadata": {
    "collapsed": false
   },
   "id": "51a0f46acbf942ed"
  },
  {
   "cell_type": "markdown",
   "source": [
    "# Separation en train et test"
   ],
   "metadata": {
    "collapsed": false
   },
   "id": "356ecffc82ef70b3"
  },
  {
   "cell_type": "code",
   "outputs": [],
   "source": [
    "from sklearn.model_selection import train_test_split"
   ],
   "metadata": {
    "collapsed": false,
    "ExecuteTime": {
     "end_time": "2024-06-04T15:37:54.828747Z",
     "start_time": "2024-06-04T15:37:54.825227Z"
    }
   },
   "id": "fd724d9ff31ac3fb",
   "execution_count": 24
  },
  {
   "cell_type": "code",
   "outputs": [],
   "source": [
    "X = df_dropped.drop(columns=['music_genre'])\n",
    "y = df_dropped['music_genre']\n",
    "X_train, X_test, y_train, y_test = train_test_split(X, y, test_size=0.2)"
   ],
   "metadata": {
    "collapsed": false,
    "ExecuteTime": {
     "end_time": "2024-06-04T15:37:55.003495Z",
     "start_time": "2024-06-04T15:37:54.979228Z"
    }
   },
   "id": "1641248807a169d2",
   "execution_count": 25
  },
  {
   "cell_type": "code",
   "outputs": [],
   "source": [],
   "metadata": {
    "collapsed": false,
    "ExecuteTime": {
     "end_time": "2024-06-04T15:32:11.207851Z",
     "start_time": "2024-06-04T15:32:11.203477Z"
    }
   },
   "id": "1af7c0325dc0e887",
   "execution_count": 16
  },
  {
   "cell_type": "code",
   "outputs": [],
   "source": [],
   "metadata": {
    "collapsed": false
   },
   "id": "a7232302bee91313"
  }
 ],
 "metadata": {
  "kernelspec": {
   "display_name": "Python 3",
   "language": "python",
   "name": "python3"
  },
  "language_info": {
   "codemirror_mode": {
    "name": "ipython",
    "version": 2
   },
   "file_extension": ".py",
   "mimetype": "text/x-python",
   "name": "python",
   "nbconvert_exporter": "python",
   "pygments_lexer": "ipython2",
   "version": "2.7.6"
  }
 },
 "nbformat": 4,
 "nbformat_minor": 5
}
