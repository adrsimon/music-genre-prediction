{
 "cells": [
  {
   "cell_type": "code",
   "execution_count": 137,
   "id": "initial_id",
   "metadata": {
    "ExecuteTime": {
     "end_time": "2024-06-05T10:05:26.073772Z",
     "start_time": "2024-06-05T10:05:26.052126Z"
    },
    "collapsed": true
   },
   "outputs": [],
   "source": [
    "import pandas as pd\n",
    "from sklearn.model_selection import train_test_split\n",
    "from sklearn.preprocessing import LabelEncoder, StandardScaler\n",
    "from sklearn.pipeline import Pipeline\n",
    "from sklearn.compose import ColumnTransformer\n",
    "from sklearn.impute import SimpleImputer\n",
    "from sklearn.ensemble import RandomForestClassifier\n",
    "from sklearn.linear_model import LogisticRegression\n",
    "from sklearn.neighbors import KNeighborsClassifier\n",
    "from sklearn.metrics import classification_report, accuracy_score"
   ]
  },
  {
   "cell_type": "code",
   "execution_count": 138,
   "id": "aa0515290a37b900",
   "metadata": {
    "ExecuteTime": {
     "end_time": "2024-06-05T10:05:26.176170Z",
     "start_time": "2024-06-05T10:05:26.056135Z"
    },
    "collapsed": false
   },
   "outputs": [],
   "source": [
    "df = pd.read_csv(\"data/musicgenre.csv\")\n",
    "df = df.dropna(subset=['music_genre'])"
   ]
  },
  {
   "cell_type": "code",
   "execution_count": 139,
   "id": "c1dc153cb5a3dec3",
   "metadata": {
    "ExecuteTime": {
     "end_time": "2024-06-05T10:05:26.229323Z",
     "start_time": "2024-06-05T10:05:26.179402Z"
    },
    "collapsed": false
   },
   "outputs": [
    {
     "data": {
      "text/html": [
       "<div>\n",
       "<style scoped>\n",
       "    .dataframe tbody tr th:only-of-type {\n",
       "        vertical-align: middle;\n",
       "    }\n",
       "\n",
       "    .dataframe tbody tr th {\n",
       "        vertical-align: top;\n",
       "    }\n",
       "\n",
       "    .dataframe thead th {\n",
       "        text-align: right;\n",
       "    }\n",
       "</style>\n",
       "<table border=\"1\" class=\"dataframe\">\n",
       "  <thead>\n",
       "    <tr style=\"text-align: right;\">\n",
       "      <th></th>\n",
       "      <th>instance_id</th>\n",
       "      <th>artist_name</th>\n",
       "      <th>track_name</th>\n",
       "      <th>popularity</th>\n",
       "      <th>acousticness</th>\n",
       "      <th>danceability</th>\n",
       "      <th>duration_ms</th>\n",
       "      <th>energy</th>\n",
       "      <th>instrumentalness</th>\n",
       "      <th>key</th>\n",
       "      <th>liveness</th>\n",
       "      <th>loudness</th>\n",
       "      <th>mode</th>\n",
       "      <th>speechiness</th>\n",
       "      <th>tempo</th>\n",
       "      <th>obtained_date</th>\n",
       "      <th>valence</th>\n",
       "      <th>music_genre</th>\n",
       "    </tr>\n",
       "  </thead>\n",
       "  <tbody>\n",
       "    <tr>\n",
       "      <th>0</th>\n",
       "      <td>32894.0</td>\n",
       "      <td>Röyksopp</td>\n",
       "      <td>Röyksopp's Night Out</td>\n",
       "      <td>27.0</td>\n",
       "      <td>0.00468</td>\n",
       "      <td>0.652</td>\n",
       "      <td>-1.0</td>\n",
       "      <td>0.941</td>\n",
       "      <td>0.79200</td>\n",
       "      <td>A#</td>\n",
       "      <td>0.115</td>\n",
       "      <td>-5.201</td>\n",
       "      <td>Minor</td>\n",
       "      <td>0.0748</td>\n",
       "      <td>100.889</td>\n",
       "      <td>4-Apr</td>\n",
       "      <td>0.759</td>\n",
       "      <td>Electronic</td>\n",
       "    </tr>\n",
       "    <tr>\n",
       "      <th>1</th>\n",
       "      <td>46652.0</td>\n",
       "      <td>Thievery Corporation</td>\n",
       "      <td>The Shining Path</td>\n",
       "      <td>31.0</td>\n",
       "      <td>0.01270</td>\n",
       "      <td>0.622</td>\n",
       "      <td>218293.0</td>\n",
       "      <td>0.890</td>\n",
       "      <td>0.95000</td>\n",
       "      <td>D</td>\n",
       "      <td>0.124</td>\n",
       "      <td>-7.043</td>\n",
       "      <td>Minor</td>\n",
       "      <td>0.0300</td>\n",
       "      <td>115.00200000000001</td>\n",
       "      <td>4-Apr</td>\n",
       "      <td>0.531</td>\n",
       "      <td>Electronic</td>\n",
       "    </tr>\n",
       "    <tr>\n",
       "      <th>2</th>\n",
       "      <td>30097.0</td>\n",
       "      <td>Dillon Francis</td>\n",
       "      <td>Hurricane</td>\n",
       "      <td>28.0</td>\n",
       "      <td>0.00306</td>\n",
       "      <td>0.620</td>\n",
       "      <td>215613.0</td>\n",
       "      <td>0.755</td>\n",
       "      <td>0.01180</td>\n",
       "      <td>G#</td>\n",
       "      <td>0.534</td>\n",
       "      <td>-4.617</td>\n",
       "      <td>Major</td>\n",
       "      <td>0.0345</td>\n",
       "      <td>127.994</td>\n",
       "      <td>4-Apr</td>\n",
       "      <td>0.333</td>\n",
       "      <td>Electronic</td>\n",
       "    </tr>\n",
       "    <tr>\n",
       "      <th>3</th>\n",
       "      <td>62177.0</td>\n",
       "      <td>Dubloadz</td>\n",
       "      <td>Nitro</td>\n",
       "      <td>34.0</td>\n",
       "      <td>0.02540</td>\n",
       "      <td>0.774</td>\n",
       "      <td>166875.0</td>\n",
       "      <td>0.700</td>\n",
       "      <td>0.00253</td>\n",
       "      <td>C#</td>\n",
       "      <td>0.157</td>\n",
       "      <td>-4.498</td>\n",
       "      <td>Major</td>\n",
       "      <td>0.2390</td>\n",
       "      <td>128.014</td>\n",
       "      <td>4-Apr</td>\n",
       "      <td>0.270</td>\n",
       "      <td>Electronic</td>\n",
       "    </tr>\n",
       "    <tr>\n",
       "      <th>4</th>\n",
       "      <td>24907.0</td>\n",
       "      <td>What So Not</td>\n",
       "      <td>Divide &amp; Conquer</td>\n",
       "      <td>32.0</td>\n",
       "      <td>0.00465</td>\n",
       "      <td>0.638</td>\n",
       "      <td>222369.0</td>\n",
       "      <td>0.587</td>\n",
       "      <td>0.90900</td>\n",
       "      <td>F#</td>\n",
       "      <td>0.157</td>\n",
       "      <td>-6.266</td>\n",
       "      <td>Major</td>\n",
       "      <td>0.0413</td>\n",
       "      <td>145.036</td>\n",
       "      <td>4-Apr</td>\n",
       "      <td>0.323</td>\n",
       "      <td>Electronic</td>\n",
       "    </tr>\n",
       "    <tr>\n",
       "      <th>...</th>\n",
       "      <td>...</td>\n",
       "      <td>...</td>\n",
       "      <td>...</td>\n",
       "      <td>...</td>\n",
       "      <td>...</td>\n",
       "      <td>...</td>\n",
       "      <td>...</td>\n",
       "      <td>...</td>\n",
       "      <td>...</td>\n",
       "      <td>...</td>\n",
       "      <td>...</td>\n",
       "      <td>...</td>\n",
       "      <td>...</td>\n",
       "      <td>...</td>\n",
       "      <td>...</td>\n",
       "      <td>...</td>\n",
       "      <td>...</td>\n",
       "      <td>...</td>\n",
       "    </tr>\n",
       "    <tr>\n",
       "      <th>50000</th>\n",
       "      <td>58878.0</td>\n",
       "      <td>BEXEY</td>\n",
       "      <td>GO GETTA</td>\n",
       "      <td>59.0</td>\n",
       "      <td>0.03340</td>\n",
       "      <td>0.913</td>\n",
       "      <td>-1.0</td>\n",
       "      <td>0.574</td>\n",
       "      <td>0.00000</td>\n",
       "      <td>C#</td>\n",
       "      <td>0.119</td>\n",
       "      <td>-7.022</td>\n",
       "      <td>Major</td>\n",
       "      <td>0.2980</td>\n",
       "      <td>98.02799999999999</td>\n",
       "      <td>4-Apr</td>\n",
       "      <td>0.330</td>\n",
       "      <td>Hip-Hop</td>\n",
       "    </tr>\n",
       "    <tr>\n",
       "      <th>50001</th>\n",
       "      <td>43557.0</td>\n",
       "      <td>Roy Woods</td>\n",
       "      <td>Drama (feat. Drake)</td>\n",
       "      <td>72.0</td>\n",
       "      <td>0.15700</td>\n",
       "      <td>0.709</td>\n",
       "      <td>251860.0</td>\n",
       "      <td>0.362</td>\n",
       "      <td>0.00000</td>\n",
       "      <td>B</td>\n",
       "      <td>0.109</td>\n",
       "      <td>-9.814</td>\n",
       "      <td>Major</td>\n",
       "      <td>0.0550</td>\n",
       "      <td>122.04299999999999</td>\n",
       "      <td>4-Apr</td>\n",
       "      <td>0.113</td>\n",
       "      <td>Hip-Hop</td>\n",
       "    </tr>\n",
       "    <tr>\n",
       "      <th>50002</th>\n",
       "      <td>39767.0</td>\n",
       "      <td>Berner</td>\n",
       "      <td>Lovin' Me (feat. Smiggz)</td>\n",
       "      <td>51.0</td>\n",
       "      <td>0.00597</td>\n",
       "      <td>0.693</td>\n",
       "      <td>189483.0</td>\n",
       "      <td>0.763</td>\n",
       "      <td>0.00000</td>\n",
       "      <td>D</td>\n",
       "      <td>0.143</td>\n",
       "      <td>-5.443</td>\n",
       "      <td>Major</td>\n",
       "      <td>0.1460</td>\n",
       "      <td>131.079</td>\n",
       "      <td>4-Apr</td>\n",
       "      <td>0.395</td>\n",
       "      <td>Hip-Hop</td>\n",
       "    </tr>\n",
       "    <tr>\n",
       "      <th>50003</th>\n",
       "      <td>57944.0</td>\n",
       "      <td>The-Dream</td>\n",
       "      <td>Shawty Is Da Shit</td>\n",
       "      <td>65.0</td>\n",
       "      <td>0.08310</td>\n",
       "      <td>0.782</td>\n",
       "      <td>262773.0</td>\n",
       "      <td>0.472</td>\n",
       "      <td>0.00000</td>\n",
       "      <td>G</td>\n",
       "      <td>0.106</td>\n",
       "      <td>-5.016</td>\n",
       "      <td>Minor</td>\n",
       "      <td>0.0441</td>\n",
       "      <td>75.88600000000001</td>\n",
       "      <td>4-Apr</td>\n",
       "      <td>0.354</td>\n",
       "      <td>Hip-Hop</td>\n",
       "    </tr>\n",
       "    <tr>\n",
       "      <th>50004</th>\n",
       "      <td>63470.0</td>\n",
       "      <td>Naughty By Nature</td>\n",
       "      <td>Hip Hop Hooray</td>\n",
       "      <td>67.0</td>\n",
       "      <td>0.10200</td>\n",
       "      <td>0.862</td>\n",
       "      <td>267267.0</td>\n",
       "      <td>0.642</td>\n",
       "      <td>0.00000</td>\n",
       "      <td>F#</td>\n",
       "      <td>0.272</td>\n",
       "      <td>-13.652</td>\n",
       "      <td>Minor</td>\n",
       "      <td>0.1010</td>\n",
       "      <td>99.20100000000001</td>\n",
       "      <td>4-Apr</td>\n",
       "      <td>0.765</td>\n",
       "      <td>Hip-Hop</td>\n",
       "    </tr>\n",
       "  </tbody>\n",
       "</table>\n",
       "<p>50000 rows × 18 columns</p>\n",
       "</div>"
      ],
      "text/plain": [
       "       instance_id           artist_name                track_name  \\\n",
       "0          32894.0              Röyksopp      Röyksopp's Night Out   \n",
       "1          46652.0  Thievery Corporation          The Shining Path   \n",
       "2          30097.0        Dillon Francis                 Hurricane   \n",
       "3          62177.0              Dubloadz                     Nitro   \n",
       "4          24907.0           What So Not          Divide & Conquer   \n",
       "...            ...                   ...                       ...   \n",
       "50000      58878.0                 BEXEY                  GO GETTA   \n",
       "50001      43557.0             Roy Woods       Drama (feat. Drake)   \n",
       "50002      39767.0                Berner  Lovin' Me (feat. Smiggz)   \n",
       "50003      57944.0             The-Dream         Shawty Is Da Shit   \n",
       "50004      63470.0     Naughty By Nature            Hip Hop Hooray   \n",
       "\n",
       "       popularity  acousticness  danceability  duration_ms  energy  \\\n",
       "0            27.0       0.00468         0.652         -1.0   0.941   \n",
       "1            31.0       0.01270         0.622     218293.0   0.890   \n",
       "2            28.0       0.00306         0.620     215613.0   0.755   \n",
       "3            34.0       0.02540         0.774     166875.0   0.700   \n",
       "4            32.0       0.00465         0.638     222369.0   0.587   \n",
       "...           ...           ...           ...          ...     ...   \n",
       "50000        59.0       0.03340         0.913         -1.0   0.574   \n",
       "50001        72.0       0.15700         0.709     251860.0   0.362   \n",
       "50002        51.0       0.00597         0.693     189483.0   0.763   \n",
       "50003        65.0       0.08310         0.782     262773.0   0.472   \n",
       "50004        67.0       0.10200         0.862     267267.0   0.642   \n",
       "\n",
       "       instrumentalness key  liveness  loudness   mode  speechiness  \\\n",
       "0               0.79200  A#     0.115    -5.201  Minor       0.0748   \n",
       "1               0.95000   D     0.124    -7.043  Minor       0.0300   \n",
       "2               0.01180  G#     0.534    -4.617  Major       0.0345   \n",
       "3               0.00253  C#     0.157    -4.498  Major       0.2390   \n",
       "4               0.90900  F#     0.157    -6.266  Major       0.0413   \n",
       "...                 ...  ..       ...       ...    ...          ...   \n",
       "50000           0.00000  C#     0.119    -7.022  Major       0.2980   \n",
       "50001           0.00000   B     0.109    -9.814  Major       0.0550   \n",
       "50002           0.00000   D     0.143    -5.443  Major       0.1460   \n",
       "50003           0.00000   G     0.106    -5.016  Minor       0.0441   \n",
       "50004           0.00000  F#     0.272   -13.652  Minor       0.1010   \n",
       "\n",
       "                    tempo obtained_date  valence music_genre  \n",
       "0                 100.889         4-Apr    0.759  Electronic  \n",
       "1      115.00200000000001         4-Apr    0.531  Electronic  \n",
       "2                 127.994         4-Apr    0.333  Electronic  \n",
       "3                 128.014         4-Apr    0.270  Electronic  \n",
       "4                 145.036         4-Apr    0.323  Electronic  \n",
       "...                   ...           ...      ...         ...  \n",
       "50000   98.02799999999999         4-Apr    0.330     Hip-Hop  \n",
       "50001  122.04299999999999         4-Apr    0.113     Hip-Hop  \n",
       "50002             131.079         4-Apr    0.395     Hip-Hop  \n",
       "50003   75.88600000000001         4-Apr    0.354     Hip-Hop  \n",
       "50004   99.20100000000001         4-Apr    0.765     Hip-Hop  \n",
       "\n",
       "[50000 rows x 18 columns]"
      ]
     },
     "execution_count": 139,
     "metadata": {},
     "output_type": "execute_result"
    }
   ],
   "source": [
    "df"
   ]
  },
  {
   "cell_type": "markdown",
   "id": "b5795c5646ca84d3",
   "metadata": {
    "collapsed": false
   },
   "source": [
    "# Augmentation du dataframe"
   ]
  },
  {
   "cell_type": "markdown",
   "id": "3fa3bf708bed04ad",
   "metadata": {
    "collapsed": false
   },
   "source": [
    "### Valeurs manquantes\n",
    "\n",
    "`df_droppped` : toutes les lignes contenant une valeur `None` sont drop\n",
    "`df_mean` : toutes les valeurs `None` sont remplacées par la valeur moyenne de la colonne\n",
    "`df_median` : toutes les valeurs `None` sont remplacées par la valeur médiane de la colonne"
   ]
  },
  {
   "cell_type": "code",
   "execution_count": 140,
   "id": "f3ac54ebee5ebdb8",
   "metadata": {
    "ExecuteTime": {
     "end_time": "2024-06-05T10:05:26.317097Z",
     "start_time": "2024-06-05T10:05:26.197813Z"
    },
    "collapsed": false
   },
   "outputs": [],
   "source": [
    "df_dropped = df.replace(\"?\", None).dropna()\n",
    "tempo = [float(i) for i in df.tempo if i != \"?\"]\n",
    "df_mean = df.replace(\"?\", np.mean(tempo))\n",
    "df_median = df.replace(\"?\", np.median(tempo))"
   ]
  },
  {
   "cell_type": "code",
   "execution_count": 141,
   "id": "5c7dee157529abaa",
   "metadata": {
    "ExecuteTime": {
     "end_time": "2024-06-05T10:05:26.393254Z",
     "start_time": "2024-06-05T10:05:26.327209Z"
    },
    "collapsed": false
   },
   "outputs": [
    {
     "name": "stdout",
     "output_type": "stream",
     "text": [
      "119.95296059529099\n",
      "119.95296059529097\n",
      "119.94559411999998\n"
     ]
    }
   ],
   "source": [
    "print(np.mean([float(i) for i in df_dropped.tempo if i != \"?\"]))\n",
    "print(np.mean([float(i) for i in df_mean.tempo if i != \"?\"]))\n",
    "print(np.mean([float(i) for i in df_median.tempo if i != \"?\"]))"
   ]
  },
  {
   "cell_type": "markdown",
   "id": "495210c89daec777",
   "metadata": {
    "collapsed": false
   },
   "source": [
    "Pas beaucoup de différence entre les 3 méthodes. On va donc garder `df_dropped` dans un premier temps."
   ]
  },
  {
   "cell_type": "code",
   "execution_count": 142,
   "id": "caebf036501b259d",
   "metadata": {
    "ExecuteTime": {
     "end_time": "2024-06-05T10:05:26.455169Z",
     "start_time": "2024-06-05T10:05:26.339403Z"
    },
    "collapsed": false
   },
   "outputs": [],
   "source": [
    "df_dropped[\"tempo\"] = df_dropped[\"tempo\"].astype(float)"
   ]
  },
  {
   "cell_type": "code",
   "execution_count": 143,
   "id": "6fdb1bb42d6cabce",
   "metadata": {
    "ExecuteTime": {
     "end_time": "2024-06-05T10:05:26.455636Z",
     "start_time": "2024-06-05T10:05:26.343622Z"
    },
    "collapsed": false
   },
   "outputs": [
    {
     "name": "stdout",
     "output_type": "stream",
     "text": [
      "Categorical Features: 6\n",
      "Numerical Features: 12\n"
     ]
    }
   ],
   "source": [
    "print(f'Categorical Features: {len([x for x in df_dropped.columns if df_dropped[x].dtype == object])}')\n",
    "print(f'Numerical Features: {len([x for x in df_dropped.columns if df_dropped[x].dtype == float])}')"
   ]
  },
  {
   "cell_type": "markdown",
   "id": "6fb93380c3c3f9df",
   "metadata": {
    "collapsed": false
   },
   "source": [
    "### Durée"
   ]
  },
  {
   "cell_type": "code",
   "execution_count": 144,
   "id": "dd2f1a5d56e6a3a3",
   "metadata": {
    "ExecuteTime": {
     "end_time": "2024-06-05T10:05:26.808152Z",
     "start_time": "2024-06-05T10:05:26.353454Z"
    },
    "collapsed": false
   },
   "outputs": [
    {
     "data": {
      "image/png": "[encoded data removed]",
      "text/plain": [
       "<Figure size 1000x300 with 1 Axes>"
      ]
     },
     "metadata": {},
     "output_type": "display_data"
    }
   ],
   "source": [
    "plt.figure(figsize=(10, 3))\n",
    "df_dropped.select_dtypes(include=np.number).boxplot()\n",
    "plt.show()"
   ]
  },
  {
   "cell_type": "markdown",
   "id": "5cc31abbd612ca2b",
   "metadata": {
    "collapsed": false
   },
   "source": [
    "On observe des valeurs extrêmes pour la colonne `duration_ms`. On va donc la normaliser en la passant en secondes."
   ]
  },
  {
   "cell_type": "code",
   "execution_count": 145,
   "id": "c2fc513ff060a024",
   "metadata": {
    "ExecuteTime": {
     "end_time": "2024-06-05T10:05:26.813178Z",
     "start_time": "2024-06-05T10:05:26.807446Z"
    },
    "collapsed": false
   },
   "outputs": [],
   "source": [
    "df_dropped[\"duration_ms\"] = df_dropped[\"duration_ms\"] / 1000"
   ]
  },
  {
   "cell_type": "code",
   "execution_count": 146,
   "id": "18fc1b17adc59058",
   "metadata": {
    "ExecuteTime": {
     "end_time": "2024-06-05T10:05:27.161648Z",
     "start_time": "2024-06-05T10:05:26.813517Z"
    },
    "collapsed": false
   },
   "outputs": [
    {
     "data": {
      "image/png": "[encoded data removed]",
      "text/plain": [
       "<Figure size 1000x300 with 1 Axes>"
      ]
     },
     "metadata": {},
     "output_type": "display_data"
    }
   ],
   "source": [
    "plt.figure(figsize=(10, 3))\n",
    "df_dropped.select_dtypes(include=np.number).boxplot()\n",
    "plt.show()"
   ]
  },
  {
   "cell_type": "markdown",
   "id": "c15aca661eb6ddfa",
   "metadata": {
    "collapsed": false
   },
   "source": [
    "### Transformations des variables catégorielles en variables numériques\n",
    "\n",
    "Afin de pouvoir utiliser les variables catégorielles dans notre modèle, on va les transformer en variables numériques."
   ]
  },
  {
   "cell_type": "code",
   "execution_count": 147,
   "id": "1d2debb4865873eb",
   "metadata": {
    "ExecuteTime": {
     "end_time": "2024-06-05T10:05:27.284725Z",
     "start_time": "2024-06-05T10:05:27.162613Z"
    },
    "collapsed": false
   },
   "outputs": [],
   "source": [
    "from sklearn.preprocessing import LabelEncoder"
   ]
  },
  {
   "cell_type": "code",
   "execution_count": 148,
   "id": "85cde292a6c4b9a2",
   "metadata": {
    "ExecuteTime": {
     "end_time": "2024-06-05T10:05:27.308004Z",
     "start_time": "2024-06-05T10:05:27.267785Z"
    },
    "collapsed": false
   },
   "outputs": [],
   "source": [
    "encoder = LabelEncoder()\n",
    "df_dropped['music_genre'] = encoder.fit_transform(df_dropped['music_genre'])"
   ]
  },
  {
   "cell_type": "code",
   "execution_count": 149,
   "id": "17383fd55b57381d",
   "metadata": {
    "ExecuteTime": {
     "end_time": "2024-06-05T10:05:27.323630Z",
     "start_time": "2024-06-05T10:05:27.306477Z"
    },
    "collapsed": false
   },
   "outputs": [],
   "source": [
    "df_dropped['key'] = encoder.fit_transform(df_dropped['key'])\n",
    "df_dropped['mode'] = encoder.fit_transform(df_dropped['mode'])"
   ]
  },
  {
   "cell_type": "code",
   "execution_count": 150,
   "id": "81153be4a1e6d41a",
   "metadata": {
    "ExecuteTime": {
     "end_time": "2024-06-05T10:05:27.329714Z",
     "start_time": "2024-06-05T10:05:27.316805Z"
    },
    "collapsed": false
   },
   "outputs": [
    {
     "name": "stdout",
     "output_type": "stream",
     "text": [
      "music_genre\n",
      "0    4495\n",
      "1    4497\n",
      "2    4470\n",
      "3    4500\n",
      "4    4486\n",
      "5    4466\n",
      "6    4520\n",
      "7    4521\n",
      "8    4504\n",
      "9    4561\n",
      "Name: count, dtype: int64\n"
     ]
    }
   ],
   "source": [
    "print(df_dropped['music_genre'].value_counts().sort_index())"
   ]
  },
  {
   "cell_type": "markdown",
   "id": "9c0e97b0e09d4061",
   "metadata": {
    "collapsed": false
   },
   "source": [
    "### Délétion des colonnes inutiles"
   ]
  },
  {
   "cell_type": "code",
   "execution_count": 151,
   "id": "d7109cb2e145230",
   "metadata": {
    "ExecuteTime": {
     "end_time": "2024-06-05T10:05:27.357138Z",
     "start_time": "2024-06-05T10:05:27.326635Z"
    },
    "collapsed": false
   },
   "outputs": [
    {
     "name": "stdout",
     "output_type": "stream",
     "text": [
      "Categorical Features: ['artist_name', 'track_name', 'obtained_date']\n"
     ]
    }
   ],
   "source": [
    "print(f'Categorical Features: {[x for x in df_dropped.columns if df_dropped[x].dtype == object]}')"
   ]
  },
  {
   "cell_type": "code",
   "execution_count": 152,
   "id": "e3261ba465c9b026",
   "metadata": {
    "ExecuteTime": {
     "end_time": "2024-06-05T10:05:27.409145Z",
     "start_time": "2024-06-05T10:05:27.337370Z"
    },
    "collapsed": false
   },
   "outputs": [],
   "source": [
    "df_dropped.drop(['track_name'],axis=1,inplace=True)"
   ]
  },
  {
   "cell_type": "markdown",
   "id": "37c6c86416909a9d",
   "metadata": {
    "collapsed": false
   },
   "source": [
    "On suppose que le nom de la musique n'a pas d'impact sur le genre de musique."
   ]
  },
  {
   "cell_type": "code",
   "execution_count": 153,
   "id": "9d984c2af615d254",
   "metadata": {
    "ExecuteTime": {
     "end_time": "2024-06-05T10:05:27.410930Z",
     "start_time": "2024-06-05T10:05:27.347769Z"
    },
    "collapsed": false
   },
   "outputs": [],
   "source": [
    "df_dropped.drop(['instance_id'],axis=1,inplace=True)\n",
    "df_dropped.drop(['obtained_date'],axis=1,inplace=True)"
   ]
  },
  {
   "cell_type": "markdown",
   "id": "51a0f46acbf942ed",
   "metadata": {
    "collapsed": false
   },
   "source": [
    "De la même manière, l'identifiant de la musique ainsi que la date d'obtention n'ont pas d'impact sur le genre de musique."
   ]
  },
  {
   "cell_type": "code",
   "execution_count": 154,
   "id": "e3b25494e7751701",
   "metadata": {
    "ExecuteTime": {
     "end_time": "2024-06-05T10:05:27.412309Z",
     "start_time": "2024-06-05T10:05:27.356069Z"
    },
    "collapsed": false
   },
   "outputs": [
    {
     "data": {
      "text/html": [
       "<div>\n",
       "<style scoped>\n",
       "    .dataframe tbody tr th:only-of-type {\n",
       "        vertical-align: middle;\n",
       "    }\n",
       "\n",
       "    .dataframe tbody tr th {\n",
       "        vertical-align: top;\n",
       "    }\n",
       "\n",
       "    .dataframe thead th {\n",
       "        text-align: right;\n",
       "    }\n",
       "</style>\n",
       "<table border=\"1\" class=\"dataframe\">\n",
       "  <thead>\n",
       "    <tr style=\"text-align: right;\">\n",
       "      <th></th>\n",
       "      <th>popularity</th>\n",
       "      <th>acousticness</th>\n",
       "      <th>danceability</th>\n",
       "      <th>duration_ms</th>\n",
       "      <th>energy</th>\n",
       "      <th>instrumentalness</th>\n",
       "      <th>key</th>\n",
       "      <th>liveness</th>\n",
       "      <th>loudness</th>\n",
       "      <th>mode</th>\n",
       "      <th>speechiness</th>\n",
       "      <th>tempo</th>\n",
       "      <th>valence</th>\n",
       "      <th>music_genre</th>\n",
       "    </tr>\n",
       "  </thead>\n",
       "  <tbody>\n",
       "    <tr>\n",
       "      <th>0</th>\n",
       "      <td>27.0</td>\n",
       "      <td>0.00468</td>\n",
       "      <td>0.652</td>\n",
       "      <td>-0.001</td>\n",
       "      <td>0.941</td>\n",
       "      <td>0.79200</td>\n",
       "      <td>1</td>\n",
       "      <td>0.115</td>\n",
       "      <td>-5.201</td>\n",
       "      <td>1</td>\n",
       "      <td>0.0748</td>\n",
       "      <td>100.889</td>\n",
       "      <td>0.759</td>\n",
       "      <td>5</td>\n",
       "    </tr>\n",
       "    <tr>\n",
       "      <th>1</th>\n",
       "      <td>31.0</td>\n",
       "      <td>0.01270</td>\n",
       "      <td>0.622</td>\n",
       "      <td>218.293</td>\n",
       "      <td>0.890</td>\n",
       "      <td>0.95000</td>\n",
       "      <td>5</td>\n",
       "      <td>0.124</td>\n",
       "      <td>-7.043</td>\n",
       "      <td>1</td>\n",
       "      <td>0.0300</td>\n",
       "      <td>115.002</td>\n",
       "      <td>0.531</td>\n",
       "      <td>5</td>\n",
       "    </tr>\n",
       "    <tr>\n",
       "      <th>2</th>\n",
       "      <td>28.0</td>\n",
       "      <td>0.00306</td>\n",
       "      <td>0.620</td>\n",
       "      <td>215.613</td>\n",
       "      <td>0.755</td>\n",
       "      <td>0.01180</td>\n",
       "      <td>11</td>\n",
       "      <td>0.534</td>\n",
       "      <td>-4.617</td>\n",
       "      <td>0</td>\n",
       "      <td>0.0345</td>\n",
       "      <td>127.994</td>\n",
       "      <td>0.333</td>\n",
       "      <td>5</td>\n",
       "    </tr>\n",
       "    <tr>\n",
       "      <th>3</th>\n",
       "      <td>34.0</td>\n",
       "      <td>0.02540</td>\n",
       "      <td>0.774</td>\n",
       "      <td>166.875</td>\n",
       "      <td>0.700</td>\n",
       "      <td>0.00253</td>\n",
       "      <td>4</td>\n",
       "      <td>0.157</td>\n",
       "      <td>-4.498</td>\n",
       "      <td>0</td>\n",
       "      <td>0.2390</td>\n",
       "      <td>128.014</td>\n",
       "      <td>0.270</td>\n",
       "      <td>5</td>\n",
       "    </tr>\n",
       "    <tr>\n",
       "      <th>4</th>\n",
       "      <td>32.0</td>\n",
       "      <td>0.00465</td>\n",
       "      <td>0.638</td>\n",
       "      <td>222.369</td>\n",
       "      <td>0.587</td>\n",
       "      <td>0.90900</td>\n",
       "      <td>9</td>\n",
       "      <td>0.157</td>\n",
       "      <td>-6.266</td>\n",
       "      <td>0</td>\n",
       "      <td>0.0413</td>\n",
       "      <td>145.036</td>\n",
       "      <td>0.323</td>\n",
       "      <td>5</td>\n",
       "    </tr>\n",
       "  </tbody>\n",
       "</table>\n",
       "</div>"
      ],
      "text/plain": [
       "   popularity  acousticness  danceability  duration_ms  energy  \\\n",
       "0        27.0       0.00468         0.652       -0.001   0.941   \n",
       "1        31.0       0.01270         0.622      218.293   0.890   \n",
       "2        28.0       0.00306         0.620      215.613   0.755   \n",
       "3        34.0       0.02540         0.774      166.875   0.700   \n",
       "4        32.0       0.00465         0.638      222.369   0.587   \n",
       "\n",
       "   instrumentalness  key  liveness  loudness  mode  speechiness    tempo  \\\n",
       "0           0.79200    1     0.115    -5.201     1       0.0748  100.889   \n",
       "1           0.95000    5     0.124    -7.043     1       0.0300  115.002   \n",
       "2           0.01180   11     0.534    -4.617     0       0.0345  127.994   \n",
       "3           0.00253    4     0.157    -4.498     0       0.2390  128.014   \n",
       "4           0.90900    9     0.157    -6.266     0       0.0413  145.036   \n",
       "\n",
       "   valence  music_genre  \n",
       "0    0.759            5  \n",
       "1    0.531            5  \n",
       "2    0.333            5  \n",
       "3    0.270            5  \n",
       "4    0.323            5  "
      ]
     },
     "execution_count": 154,
     "metadata": {},
     "output_type": "execute_result"
    }
   ],
   "source": [
    "df_dropped.drop(['artist_name'],axis=1,inplace=True)\n",
    "df_dropped.head()"
   ]
  },
  {
   "cell_type": "markdown",
   "id": "55eb2b4b61e3a3f2",
   "metadata": {
    "collapsed": false
   },
   "source": [
    "On supprime également le nom de l'artiste.\n"
   ]
  },
  {
   "cell_type": "markdown",
   "id": "3d52f537dfaacff",
   "metadata": {
    "collapsed": false
   },
   "source": [
    "### Corrélation"
   ]
  },
  {
   "cell_type": "code",
   "execution_count": 155,
   "id": "b965b5aa6dd91155",
   "metadata": {
    "ExecuteTime": {
     "end_time": "2024-06-05T10:05:27.622097Z",
     "start_time": "2024-06-05T10:05:27.365793Z"
    },
    "collapsed": false
   },
   "outputs": [
    {
     "data": {
      "image/png": "[encoded data removed]",
      "text/plain": [
       "<Figure size 800x800 with 2 Axes>"
      ]
     },
     "metadata": {},
     "output_type": "display_data"
    }
   ],
   "source": [
    "plt.figure(figsize=(8, 8))\n",
    "sns.heatmap(df_dropped.select_dtypes(include=np.number).corr(), cmap='coolwarm')\n",
    "plt.show()"
   ]
  },
  {
   "cell_type": "markdown",
   "id": "9542b8f6a08c30cc",
   "metadata": {
    "collapsed": false
   },
   "source": [
    "On observe une forte corrélation entre `loudness` et `energy`. Cependant, on n'observe pas de corrélation entre `music_genre` et les autres variables pour le moment. Il va falloir creuser les transformations."
   ]
  },
  {
   "cell_type": "markdown",
   "id": "356ecffc82ef70b3",
   "metadata": {
    "collapsed": false
   },
   "source": [
    "# Separation en train et test"
   ]
  },
  {
   "cell_type": "code",
   "execution_count": 156,
   "id": "fd724d9ff31ac3fb",
   "metadata": {
    "ExecuteTime": {
     "end_time": "2024-06-05T10:09:27.208644Z",
     "start_time": "2024-06-05T10:09:27.201953Z"
    },
    "collapsed": false
   },
   "outputs": [],
   "source": [
    "from sklearn.model_selection import train_test_split"
   ]
  },
  {
   "cell_type": "code",
   "execution_count": 157,
   "id": "1641248807a169d2",
   "metadata": {
    "ExecuteTime": {
     "end_time": "2024-06-05T10:09:27.364728Z",
     "start_time": "2024-06-05T10:09:27.344780Z"
    },
    "collapsed": false
   },
   "outputs": [
    {
     "data": {
      "text/html": [
       "<div>\n",
       "<style scoped>\n",
       "    .dataframe tbody tr th:only-of-type {\n",
       "        vertical-align: middle;\n",
       "    }\n",
       "\n",
       "    .dataframe tbody tr th {\n",
       "        vertical-align: top;\n",
       "    }\n",
       "\n",
       "    .dataframe thead th {\n",
       "        text-align: right;\n",
       "    }\n",
       "</style>\n",
       "<table border=\"1\" class=\"dataframe\">\n",
       "  <thead>\n",
       "    <tr style=\"text-align: right;\">\n",
       "      <th></th>\n",
       "      <th>popularity</th>\n",
       "      <th>acousticness</th>\n",
       "      <th>danceability</th>\n",
       "      <th>duration_ms</th>\n",
       "      <th>energy</th>\n",
       "      <th>instrumentalness</th>\n",
       "      <th>key</th>\n",
       "      <th>liveness</th>\n",
       "      <th>loudness</th>\n",
       "      <th>mode</th>\n",
       "      <th>speechiness</th>\n",
       "      <th>tempo</th>\n",
       "      <th>valence</th>\n",
       "    </tr>\n",
       "  </thead>\n",
       "  <tbody>\n",
       "    <tr>\n",
       "      <th>47877</th>\n",
       "      <td>59.0</td>\n",
       "      <td>0.0317</td>\n",
       "      <td>0.778</td>\n",
       "      <td>227.573</td>\n",
       "      <td>0.7100</td>\n",
       "      <td>0.00000</td>\n",
       "      <td>2</td>\n",
       "      <td>0.0812</td>\n",
       "      <td>-7.175</td>\n",
       "      <td>0</td>\n",
       "      <td>0.1560</td>\n",
       "      <td>132.018</td>\n",
       "      <td>0.329</td>\n",
       "    </tr>\n",
       "    <tr>\n",
       "      <th>16417</th>\n",
       "      <td>57.0</td>\n",
       "      <td>0.0697</td>\n",
       "      <td>0.710</td>\n",
       "      <td>264.813</td>\n",
       "      <td>0.6980</td>\n",
       "      <td>0.00000</td>\n",
       "      <td>5</td>\n",
       "      <td>0.4780</td>\n",
       "      <td>-5.797</td>\n",
       "      <td>0</td>\n",
       "      <td>0.0332</td>\n",
       "      <td>104.007</td>\n",
       "      <td>0.852</td>\n",
       "    </tr>\n",
       "    <tr>\n",
       "      <th>36590</th>\n",
       "      <td>68.0</td>\n",
       "      <td>0.0214</td>\n",
       "      <td>0.638</td>\n",
       "      <td>196.600</td>\n",
       "      <td>0.6990</td>\n",
       "      <td>0.00000</td>\n",
       "      <td>0</td>\n",
       "      <td>0.0739</td>\n",
       "      <td>-6.736</td>\n",
       "      <td>0</td>\n",
       "      <td>0.0304</td>\n",
       "      <td>149.992</td>\n",
       "      <td>0.959</td>\n",
       "    </tr>\n",
       "    <tr>\n",
       "      <th>3381</th>\n",
       "      <td>49.0</td>\n",
       "      <td>0.2250</td>\n",
       "      <td>0.454</td>\n",
       "      <td>215.839</td>\n",
       "      <td>0.5650</td>\n",
       "      <td>0.00121</td>\n",
       "      <td>8</td>\n",
       "      <td>0.1120</td>\n",
       "      <td>-4.952</td>\n",
       "      <td>0</td>\n",
       "      <td>0.0314</td>\n",
       "      <td>74.501</td>\n",
       "      <td>0.224</td>\n",
       "    </tr>\n",
       "    <tr>\n",
       "      <th>42696</th>\n",
       "      <td>22.0</td>\n",
       "      <td>0.9910</td>\n",
       "      <td>0.270</td>\n",
       "      <td>180.320</td>\n",
       "      <td>0.0146</td>\n",
       "      <td>0.90000</td>\n",
       "      <td>0</td>\n",
       "      <td>0.0726</td>\n",
       "      <td>-34.135</td>\n",
       "      <td>1</td>\n",
       "      <td>0.0402</td>\n",
       "      <td>135.621</td>\n",
       "      <td>0.264</td>\n",
       "    </tr>\n",
       "  </tbody>\n",
       "</table>\n",
       "</div>"
      ],
      "text/plain": [
       "       popularity  acousticness  danceability  duration_ms  energy  \\\n",
       "47877        59.0        0.0317         0.778      227.573  0.7100   \n",
       "16417        57.0        0.0697         0.710      264.813  0.6980   \n",
       "36590        68.0        0.0214         0.638      196.600  0.6990   \n",
       "3381         49.0        0.2250         0.454      215.839  0.5650   \n",
       "42696        22.0        0.9910         0.270      180.320  0.0146   \n",
       "\n",
       "       instrumentalness  key  liveness  loudness  mode  speechiness    tempo  \\\n",
       "47877           0.00000    2    0.0812    -7.175     0       0.1560  132.018   \n",
       "16417           0.00000    5    0.4780    -5.797     0       0.0332  104.007   \n",
       "36590           0.00000    0    0.0739    -6.736     0       0.0304  149.992   \n",
       "3381            0.00121    8    0.1120    -4.952     0       0.0314   74.501   \n",
       "42696           0.90000    0    0.0726   -34.135     1       0.0402  135.621   \n",
       "\n",
       "       valence  \n",
       "47877    0.329  \n",
       "16417    0.852  \n",
       "36590    0.959  \n",
       "3381     0.224  \n",
       "42696    0.264  "
      ]
     },
     "execution_count": 157,
     "metadata": {},
     "output_type": "execute_result"
    }
   ],
   "source": [
    "X = df_dropped.drop(columns=['music_genre'])\n",
    "y = df_dropped['music_genre']\n",
    "X_train, X_test, y_train, y_test = train_test_split(X, y, test_size=0.2)\n",
    "X_train.head()\n"
   ]
  },
  {
   "cell_type": "code",
   "execution_count": 158,
   "id": "a9821ea4",
   "metadata": {},
   "outputs": [
    {
     "name": "stdout",
     "output_type": "stream",
     "text": [
      "accuracy: 0.5655264326965793\n"
     ]
    }
   ],
   "source": [
    "# Define and train the Random Forest classifier\n",
    "rf_model = RandomForestClassifier(max_depth=15, min_samples_leaf=4, n_estimators=35)\n",
    "rf_model.fit(X_train, y_train)\n",
    "rf_y_hat = rf_model.predict(X_test)\n",
    "print(\"accuracy:\",accuracy_score(rf_y_hat, y_test))"
   ]
  },
  {
   "cell_type": "code",
   "execution_count": 159,
   "id": "76990489",
   "metadata": {},
   "outputs": [
    {
     "name": "stderr",
     "output_type": "stream",
     "text": [
      "c:\\Python312\\Lib\\site-packages\\sklearn\\linear_model\\_logistic.py:469: ConvergenceWarning: lbfgs failed to converge (status=1):\n",
      "STOP: TOTAL NO. of ITERATIONS REACHED LIMIT.\n",
      "\n",
      "Increase the number of iterations (max_iter) or scale the data as shown in:\n",
      "    https://scikit-learn.org/stable/modules/preprocessing.html\n",
      "Please also refer to the documentation for alternative solver options:\n",
      "    https://scikit-learn.org/stable/modules/linear_model.html#logistic-regression\n",
      "  n_iter_i = _check_optimize_result(\n"
     ]
    }
   ],
   "source": [
    "# Define and train the Logistic Regression classifier\n",
    "lr_model = LogisticRegression(max_iter=000)\n",
    "lr_model.fit(X_train, y_train)\n",
    "lr_predictions = lr_model.predict(X_test)"
   ]
  },
  {
   "cell_type": "code",
   "execution_count": 160,
   "id": "ee222883",
   "metadata": {},
   "outputs": [],
   "source": [
    "# Define and train the KNN classifier\n",
    "knn_model = KNeighborsClassifier()\n",
    "knn_model.fit(X_train, y_train)\n",
    "knn_predictions = knn_model.predict(X_test)"
   ]
  },
  {
   "cell_type": "code",
   "execution_count": 161,
   "id": "7573e537",
   "metadata": {},
   "outputs": [],
   "source": [
    "# Evaluate the models\n",
    "rf_accuracy = accuracy_score(y_test, rf_y_hat)\n",
    "lr_accuracy = accuracy_score(y_test, lr_predictions)\n",
    "knn_accuracy = accuracy_score(y_test, knn_predictions)"
   ]
  },
  {
   "cell_type": "code",
   "execution_count": 162,
   "id": "f0a3a49c",
   "metadata": {},
   "outputs": [
    {
     "name": "stdout",
     "output_type": "stream",
     "text": [
      "Random Forest Classifier\n",
      "Accuracy: 0.5655264326965793\n",
      "              precision    recall  f1-score   support\n",
      "\n",
      "           0       0.10      0.10      0.10       874\n",
      "           1       0.12      0.12      0.12       927\n",
      "           2       0.09      0.09      0.09       894\n",
      "           3       0.10      0.10      0.10       914\n",
      "           4       0.13      0.12      0.12       909\n",
      "           5       0.11      0.11      0.11       920\n",
      "           6       0.11      0.11      0.11       878\n",
      "           7       0.09      0.09      0.09       877\n",
      "           8       0.09      0.09      0.09       873\n",
      "           9       0.09      0.09      0.09       938\n",
      "\n",
      "    accuracy                           0.10      9004\n",
      "   macro avg       0.10      0.10      0.10      9004\n",
      "weighted avg       0.10      0.10      0.10      9004\n",
      "\n",
      "Logistic Regression Classifier\n",
      "Accuracy: 0.1009551310528654\n",
      "              precision    recall  f1-score   support\n",
      "\n",
      "           0       0.00      0.00      0.00       874\n",
      "           1       0.14      0.00      0.00       927\n",
      "           2       0.00      0.00      0.00       894\n",
      "           3       0.10      0.89      0.18       914\n",
      "           4       0.00      0.00      0.00       909\n",
      "           5       0.10      0.01      0.01       920\n",
      "           6       0.00      0.00      0.00       878\n",
      "           7       0.00      0.00      0.00       877\n",
      "           8       0.00      0.00      0.00       873\n",
      "           9       0.10      0.10      0.10       938\n",
      "\n",
      "    accuracy                           0.10      9004\n",
      "   macro avg       0.04      0.10      0.03      9004\n",
      "weighted avg       0.05      0.10      0.03      9004\n",
      "\n",
      "K-Nearest Neighbors Classifier\n",
      "Accuracy: 0.3410706352732119\n",
      "              precision    recall  f1-score   support\n",
      "\n",
      "           0       0.21      0.31      0.25       874\n",
      "           1       0.57      0.65      0.61       927\n",
      "           2       0.30      0.31      0.30       894\n",
      "           3       0.72      0.70      0.71       914\n",
      "           4       0.28      0.26      0.27       909\n",
      "           5       0.30      0.22      0.25       920\n",
      "           6       0.21      0.25      0.22       878\n",
      "           7       0.31      0.22      0.26       877\n",
      "           8       0.24      0.24      0.24       873\n",
      "           9       0.30      0.23      0.26       938\n",
      "\n",
      "    accuracy                           0.34      9004\n",
      "   macro avg       0.34      0.34      0.34      9004\n",
      "weighted avg       0.34      0.34      0.34      9004\n",
      "\n"
     ]
    },
    {
     "name": "stderr",
     "output_type": "stream",
     "text": [
      "c:\\Python312\\Lib\\site-packages\\sklearn\\metrics\\_classification.py:1509: UndefinedMetricWarning: Precision is ill-defined and being set to 0.0 in labels with no predicted samples. Use `zero_division` parameter to control this behavior.\n",
      "  _warn_prf(average, modifier, f\"{metric.capitalize()} is\", len(result))\n",
      "c:\\Python312\\Lib\\site-packages\\sklearn\\metrics\\_classification.py:1509: UndefinedMetricWarning: Precision is ill-defined and being set to 0.0 in labels with no predicted samples. Use `zero_division` parameter to control this behavior.\n",
      "  _warn_prf(average, modifier, f\"{metric.capitalize()} is\", len(result))\n",
      "c:\\Python312\\Lib\\site-packages\\sklearn\\metrics\\_classification.py:1509: UndefinedMetricWarning: Precision is ill-defined and being set to 0.0 in labels with no predicted samples. Use `zero_division` parameter to control this behavior.\n",
      "  _warn_prf(average, modifier, f\"{metric.capitalize()} is\", len(result))\n"
     ]
    }
   ],
   "source": [
    "rf_report = classification_report(y_test, rf_predictions)\n",
    "lr_report = classification_report(y_test, lr_predictions)\n",
    "knn_report = classification_report(y_test, knn_predictions)\n",
    "\n",
    "# Print the evaluation results\n",
    "print(\"Random Forest Classifier\")\n",
    "print(f\"Accuracy: {rf_accuracy}\")\n",
    "print(rf_report)\n",
    "\n",
    "print(\"Logistic Regression Classifier\")\n",
    "print(f\"Accuracy: {lr_accuracy}\")\n",
    "print(lr_report)\n",
    "\n",
    "print(\"K-Nearest Neighbors Classifier\")\n",
    "print(f\"Accuracy: {knn_accuracy}\")\n",
    "print(knn_report)"
   ]
  },
  {
   "cell_type": "code",
   "execution_count": 166,
   "id": "46043f96",
   "metadata": {},
   "outputs": [
    {
     "ename": "ModuleNotFoundError",
     "evalue": "No module named 'tensorflow'",
     "output_type": "error",
     "traceback": [
      "\u001b[1;31m---------------------------------------------------------------------------\u001b[0m",
      "\u001b[1;31mModuleNotFoundError\u001b[0m                       Traceback (most recent call last)",
      "Cell \u001b[1;32mIn[166], line 1\u001b[0m\n\u001b[1;32m----> 1\u001b[0m \u001b[38;5;28;01mimport\u001b[39;00m \u001b[38;5;21;01mtensorflow\u001b[39;00m \u001b[38;5;28;01mas\u001b[39;00m \u001b[38;5;21;01mtf\u001b[39;00m\n\u001b[0;32m      2\u001b[0m \u001b[38;5;28;01mfrom\u001b[39;00m \u001b[38;5;21;01mtensorflow\u001b[39;00m\u001b[38;5;21;01m.\u001b[39;00m\u001b[38;5;21;01mkeras\u001b[39;00m\u001b[38;5;21;01m.\u001b[39;00m\u001b[38;5;21;01mmodels\u001b[39;00m \u001b[38;5;28;01mimport\u001b[39;00m Sequential\n\u001b[0;32m      3\u001b[0m \u001b[38;5;28;01mfrom\u001b[39;00m \u001b[38;5;21;01mtensorflow\u001b[39;00m\u001b[38;5;21;01m.\u001b[39;00m\u001b[38;5;21;01mkeras\u001b[39;00m\u001b[38;5;21;01m.\u001b[39;00m\u001b[38;5;21;01mlayers\u001b[39;00m \u001b[38;5;28;01mimport\u001b[39;00m Dense, Conv1D, MaxPooling1D, Flatten, Dropout\n",
      "\u001b[1;31mModuleNotFoundError\u001b[0m: No module named 'tensorflow'"
     ]
    }
   ],
   "source": [
    "import tensorflow as tf\n",
    "from tensorflow.keras.models import Sequential\n",
    "from tensorflow.keras.layers import Dense, Conv1D, MaxPooling1D, Flatten, Dropout\n",
    "from tensorflow.keras.utils import to_categorical\n",
    "\n",
    "# Assuming X_train and y_train are already defined and preprocessed\n",
    "# Ensure y_train is one-hot encoded\n",
    "y_train = to_categorical(y_train)\n",
    "\n",
    "# Reshape X_train to fit the model input requirements (CNN expects 3D input)\n",
    "X_train_reshaped = X_train.reshape((X_train.shape[0], X_train.shape[1], 1))\n",
    "\n",
    "# Define the CNN model\n",
    "model = Sequential()\n",
    "\n",
    "# Add convolutional layer\n",
    "model.add(Conv1D(filters=64, kernel_size=3, activation='relu', input_shape=(X_train_reshaped.shape[1], 1)))\n",
    "model.add(MaxPooling1D(pool_size=2))\n",
    "\n",
    "# Add additional convolutional layers\n",
    "model.add(Conv1D(filters=128, kernel_size=3, activation='relu'))\n",
    "model.add(MaxPooling1D(pool_size=2))\n",
    "\n",
    "# Flatten the output from the convolutional layers\n",
    "model.add(Flatten())\n",
    "\n",
    "# Add a fully connected layer\n",
    "model.add(Dense(128, activation='relu'))\n",
    "model.add(Dropout(0.5))\n",
    "\n",
    "# Add the output layer\n",
    "model.add(Dense(y_train.shape[1], activation='softmax'))\n",
    "\n",
    "# Compile the model\n",
    "model.compile(optimizer='adam', loss='categorical_crossentropy', metrics=['accuracy'])\n",
    "\n",
    "# Print the model summary\n",
    "model.summary()\n",
    "\n",
    "# Train the model\n",
    "history = model.fit(X_train_reshaped, y_train, epochs=20, batch_size=32, validation_split=0.2)\n",
    "\n",
    "# Evaluate the model on training data\n",
    "train_loss, train_accuracy = model.evaluate(X_train_reshaped, y_train)\n",
    "print(f'Training Accuracy: {train_accuracy}')\n",
    "\n"
   ]
  }
 ],
 "metadata": {
  "kernelspec": {
   "display_name": "Python 3",
   "language": "python",
   "name": "python3"
  },
  "language_info": {
   "codemirror_mode": {
    "name": "ipython",
    "version": 3
   },
   "file_extension": ".py",
   "mimetype": "text/x-python",
   "name": "python",
   "nbconvert_exporter": "python",
   "pygments_lexer": "ipython3",
   "version": "3.12.3"
  }
 },
 "nbformat": 4,
 "nbformat_minor": 5
}
