{
 "cells": [
  {
   "cell_type": "code",
   "execution_count": 2,
   "metadata": {},
   "outputs": [
    {
     "name": "stdout",
     "output_type": "stream",
     "text": [
      "Cross-validated accuracy: 0.54 ± 0.01\n",
      "             feature  importance\n",
      "0         popularity    0.184212\n",
      "10       speechiness    0.092470\n",
      "8           loudness    0.092152\n",
      "2       danceability    0.091327\n",
      "1       acousticness    0.090211\n",
      "5   instrumentalness    0.083111\n",
      "4             energy    0.077433\n",
      "12           valence    0.070680\n",
      "3        duration_ms    0.064254\n",
      "11             tempo    0.057199\n",
      "7           liveness    0.051496\n",
      "6                key    0.033573\n",
      "9               mode    0.011881\n"
     ]
    }
   ],
   "source": [
    "import pandas as pd\n",
    "from sklearn.preprocessing import LabelEncoder\n",
    "from sklearn.ensemble import RandomForestClassifier\n",
    "from sklearn.model_selection import cross_val_score\n",
    "\n",
    "# Load the dataset\n",
    "df = pd.read_csv('data/musicgenre.csv')\n",
    "\n",
    "# Handle missing values\n",
    "df = df.dropna(subset=['music_genre'])\n",
    "df = df.replace(\"?\", None).dropna()\n",
    "\n",
    "# Encode categorical features\n",
    "encoder = LabelEncoder()\n",
    "df['music_genre'] = encoder.fit_transform(df['music_genre'])\n",
    "df['key'] = encoder.fit_transform(df['key'])\n",
    "df['mode'] = encoder.fit_transform(df['mode'])\n",
    "\n",
    "# Create a mapping dictionary for the music genres\n",
    "genre_mapping = dict(zip(encoder.transform(encoder.classes_), encoder.classes_))\n",
    "\n",
    "# Scale the features\n",
    "df[\"duration_ms\"] = df[\"duration_ms\"] / 1000\n",
    "\n",
    "# Drop irrelevant columns\n",
    "df.drop(['track_name', 'instance_id', 'obtained_date', 'artist_name'], axis=1, inplace=True)\n",
    "\n",
    "# Split the data into features and target\n",
    "X = df.drop(columns=['music_genre'])\n",
    "y = df['music_genre']\n",
    "\n",
    "# Create the model\n",
    "model = RandomForestClassifier(random_state=42)\n",
    "\n",
    "# Perform cross-validation and calculate accuracy\n",
    "scores = cross_val_score(model, X, y, cv=10, scoring='accuracy')\n",
    "\n",
    "# Print the accuracy\n",
    "print(f'Cross-validated accuracy: {scores.mean():.2f} ± {scores.std():.2f}')\n",
    "\n",
    "# Train the model on the entire dataset\n",
    "model.fit(X, y)\n",
    "\n",
    "# Example: Display the feature importances\n",
    "importances = model.feature_importances_\n",
    "feature_importances = pd.DataFrame({'feature': X.columns, 'importance': importances})\n",
    "print(feature_importances.sort_values(by='importance', ascending=False))\n"
   ]
  }
 ],
 "metadata": {
  "kernelspec": {
   "display_name": "Python 3",
   "language": "python",
   "name": "python3"
  },
  "language_info": {
   "codemirror_mode": {
    "name": "ipython",
    "version": 3
   },
   "file_extension": ".py",
   "mimetype": "text/x-python",
   "name": "python",
   "nbconvert_exporter": "python",
   "pygments_lexer": "ipython3",
   "version": "3.12.3"
  }
 },
 "nbformat": 4,
 "nbformat_minor": 2
}
